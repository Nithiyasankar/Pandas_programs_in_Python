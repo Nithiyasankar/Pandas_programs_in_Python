{
  "nbformat": 4,
  "nbformat_minor": 0,
  "metadata": {
    "colab": {
      "provenance": [],
      "authorship_tag": "ABX9TyPxJra46Phca/Q/0Rf8TgsG",
      "include_colab_link": true
    },
    "kernelspec": {
      "name": "python3",
      "display_name": "Python 3"
    },
    "language_info": {
      "name": "python"
    }
  },
  "cells": [
    {
      "cell_type": "markdown",
      "metadata": {
        "id": "view-in-github",
        "colab_type": "text"
      },
      "source": [
        "<a href=\"https://colab.research.google.com/github/Nithiyasankar/Pandas_programs_in_Python/blob/main/Pandas_programs_in_python.ipynb\" target=\"_parent\"><img src=\"https://colab.research.google.com/assets/colab-badge.svg\" alt=\"Open In Colab\"/></a>"
      ]
    },
    {
      "cell_type": "code",
      "execution_count": null,
      "metadata": {
        "id": "QA6aYpgH5HsM"
      },
      "outputs": [],
      "source": [
        "import pandas as pd"
      ]
    },
    {
      "cell_type": "code",
      "source": [
        "data={\n",
        "    'Name':['x','y','z'],\n",
        "    'Age':[20,21,20],\n",
        "    'City':['Pune','Kashmir','ghajagasthan']\n",
        "}\n",
        "df=pd.DataFrame(data)\n",
        "print(\"DataFrame from dictionary:\\n\",df)"
      ],
      "metadata": {
        "colab": {
          "base_uri": "https://localhost:8080/"
        },
        "id": "MvumHQ7hP7DY",
        "outputId": "41228bdd-913c-490b-b06f-56106fbcba5f"
      },
      "execution_count": null,
      "outputs": [
        {
          "output_type": "stream",
          "name": "stdout",
          "text": [
            "DataFrame from dictionary:\n",
            "   Name  Age          City\n",
            "0    x   20          Pune\n",
            "1    y   21       Kashmir\n",
            "2    z   20  ghajagasthan\n"
          ]
        }
      ]
    },
    {
      "cell_type": "code",
      "source": [
        "import pandas as pd\n",
        "df=pd.read_csv('/content/heart.csv')\n",
        "print(\"DataFrame from CSV file:\\n\",df)"
      ],
      "metadata": {
        "colab": {
          "base_uri": "https://localhost:8080/"
        },
        "id": "0AGm27EuNUfz",
        "outputId": "805d324c-b398-4477-be99-1d2ddafe47d4"
      },
      "execution_count": null,
      "outputs": [
        {
          "output_type": "stream",
          "name": "stdout",
          "text": [
            "DataFrame from CSV file:\n",
            "      ï»¿age  sex  cp  trestbps  chol  fbs  restecg  thalach  exang  oldpeak  \\\n",
            "0        63    1   3       145   233    1        0      150      0      2.3   \n",
            "1        37    1   2       130   250    0        1      187      0      3.5   \n",
            "2        41    0   1       130   204    0        0      172      0      1.4   \n",
            "3        56    1   1       120   236    0        1      178      0      0.8   \n",
            "4        57    0   0       120   354    0        1      163      1      0.6   \n",
            "..      ...  ...  ..       ...   ...  ...      ...      ...    ...      ...   \n",
            "298      57    0   0       140   241    0        1      123      1      0.2   \n",
            "299      45    1   3       110   264    0        1      132      0      1.2   \n",
            "300      68    1   0       144   193    1        1      141      0      3.4   \n",
            "301      57    1   0       130   131    0        1      115      1      1.2   \n",
            "302      57    0   1       130   236    0        0      174      0      0.0   \n",
            "\n",
            "     slope  ca  thal  target  \n",
            "0        0   0     1       1  \n",
            "1        0   0     2       1  \n",
            "2        2   0     2       1  \n",
            "3        2   0     2       1  \n",
            "4        2   0     2       1  \n",
            "..     ...  ..   ...     ...  \n",
            "298      1   0     3       0  \n",
            "299      1   0     3       0  \n",
            "300      1   2     3       0  \n",
            "301      1   1     3       0  \n",
            "302      1   1     2       0  \n",
            "\n",
            "[303 rows x 14 columns]\n"
          ]
        }
      ]
    },
    {
      "cell_type": "code",
      "source": [
        "import pandas as pd\n",
        "data = {\n",
        "    'Name': ['ashok','arun','ajay','balaji','raj','radha','sita','ram','ravi','raju'],\n",
        "    'Age': [25, 30, 35, 40, 45, 50, 55, 60, 65, 70],\n",
        "    'City': ['Pune', 'Mumbai', 'Delhi', 'Bangalore', 'Chennai', 'Kolkata', 'Hyderabad', 'Ahmedabad', 'Jaipur', 'Lucknow'],\n",
        "    'Salary': [25000.50, 30000, 35000, 40000.50, 45000,50000,55000,60000,65000.50,70000]\n",
        "}\n",
        "df=pd.DataFrame(data)\n",
        "print(\"First few rows:\\n\",df.head())\n",
        "print(\"Last few rows:\\n\",df.tail())\n",
        "print(\"Info about DataFrame:\\n\",df.info())\n",
        "print(\"Basic statistics:\\n\",df.describe())"
      ],
      "metadata": {
        "colab": {
          "base_uri": "https://localhost:8080/"
        },
        "id": "dI5jNPi6PBOj",
        "outputId": "4758ae55-65c8-404c-b433-4d02caaff1af"
      },
      "execution_count": null,
      "outputs": [
        {
          "output_type": "stream",
          "name": "stdout",
          "text": [
            "First few rows:\n",
            "      Name  Age       City   Salary\n",
            "0   ashok   25       Pune  25000.5\n",
            "1    arun   30     Mumbai  30000.0\n",
            "2    ajay   35      Delhi  35000.0\n",
            "3  balaji   40  Bangalore  40000.5\n",
            "4     raj   45    Chennai  45000.0\n",
            "Last few rows:\n",
            "     Name  Age       City   Salary\n",
            "5  radha   50    Kolkata  50000.0\n",
            "6   sita   55  Hyderabad  55000.0\n",
            "7    ram   60  Ahmedabad  60000.0\n",
            "8   ravi   65     Jaipur  65000.5\n",
            "9   raju   70    Lucknow  70000.0\n",
            "<class 'pandas.core.frame.DataFrame'>\n",
            "RangeIndex: 10 entries, 0 to 9\n",
            "Data columns (total 4 columns):\n",
            " #   Column  Non-Null Count  Dtype  \n",
            "---  ------  --------------  -----  \n",
            " 0   Name    10 non-null     object \n",
            " 1   Age     10 non-null     int64  \n",
            " 2   City    10 non-null     object \n",
            " 3   Salary  10 non-null     float64\n",
            "dtypes: float64(1), int64(1), object(2)\n",
            "memory usage: 448.0+ bytes\n",
            "Info about DataFrame:\n",
            " None\n",
            "Basic statistics:\n",
            "              Age        Salary\n",
            "count  10.000000     10.000000\n",
            "mean   47.500000  47500.150000\n",
            "std    15.138252  15138.205899\n",
            "min    25.000000  25000.500000\n",
            "25%    36.250000  36250.125000\n",
            "50%    47.500000  47500.000000\n",
            "75%    58.750000  58750.000000\n",
            "max    70.000000  70000.000000\n"
          ]
        }
      ]
    },
    {
      "cell_type": "code",
      "source": [
        "import pandas as pd\n",
        "print(\"Name column:\\n\",df['Name'])\n",
        "print(\"Name Age Salary columns:\\n\",df[['Name','Age','Salary']])\n",
        "print(\"First row:\\n\",df.iloc[0])\n",
        "print(\"Rows where Age>50:\\n\",df[df['Age']>50])"
      ],
      "metadata": {
        "colab": {
          "base_uri": "https://localhost:8080/"
        },
        "id": "Mohr7W4xVGs8",
        "outputId": "6cedaf08-0e0a-475f-a649-0348dec11124"
      },
      "execution_count": null,
      "outputs": [
        {
          "output_type": "stream",
          "name": "stdout",
          "text": [
            "Name column:\n",
            " 0     ashok\n",
            "1      arun\n",
            "2      ajay\n",
            "3    balaji\n",
            "4       raj\n",
            "5     radha\n",
            "6      sita\n",
            "7       ram\n",
            "8      ravi\n",
            "9      raju\n",
            "Name: Name, dtype: object\n",
            "Name Age Salary columns:\n",
            "      Name  Age   Salary\n",
            "0   ashok   25  25000.5\n",
            "1    arun   30  30000.0\n",
            "2    ajay   35  35000.0\n",
            "3  balaji   40  40000.5\n",
            "4     raj   45  45000.0\n",
            "5   radha   50  50000.0\n",
            "6    sita   55  55000.0\n",
            "7     ram   60  60000.0\n",
            "8    ravi   65  65000.5\n",
            "9    raju   70  70000.0\n",
            "First row:\n",
            " Name        ashok\n",
            "Age            25\n",
            "City         Pune\n",
            "Salary    25000.5\n",
            "Name: 0, dtype: object\n",
            "Rows where Age>50:\n",
            "    Name  Age       City   Salary\n",
            "6  sita   55  Hyderabad  55000.0\n",
            "7   ram   60  Ahmedabad  60000.0\n",
            "8  ravi   65     Jaipur  65000.5\n",
            "9  raju   70    Lucknow  70000.0\n"
          ]
        }
      ]
    },
    {
      "cell_type": "code",
      "source": [
        "df['Gender']=['M','M','M','M','M','F','F','M','M','M']\n",
        "print(\"DataFrame with new column:\\n\",df)\n",
        "df['Age']=df['Age']+1\n",
        "print(\"DataFrame with modified Age column:\\n\",df)\n",
        "df=df.drop(columns=['City'])\n",
        "print(\"DataFrame with City column dropped:\\n\",df)"
      ],
      "metadata": {
        "colab": {
          "base_uri": "https://localhost:8080/"
        },
        "id": "FK1r4qIwXldg",
        "outputId": "c88e80b6-8c91-444d-9279-0752207749af"
      },
      "execution_count": null,
      "outputs": [
        {
          "output_type": "stream",
          "name": "stdout",
          "text": [
            "DataFrame with new column:\n",
            "      Name  Age       City   Salary Gender\n",
            "0   ashok   25       Pune  25000.5      M\n",
            "1    arun   30     Mumbai  30000.0      M\n",
            "2    ajay   35      Delhi  35000.0      M\n",
            "3  balaji   40  Bangalore  40000.5      M\n",
            "4     raj   45    Chennai  45000.0      M\n",
            "5   radha   50    Kolkata  50000.0      F\n",
            "6    sita   55  Hyderabad  55000.0      F\n",
            "7     ram   60  Ahmedabad  60000.0      M\n",
            "8    ravi   65     Jaipur  65000.5      M\n",
            "9    raju   70    Lucknow  70000.0      M\n",
            "DataFrame with modified Age column:\n",
            "      Name  Age       City   Salary Gender\n",
            "0   ashok   26       Pune  25000.5      M\n",
            "1    arun   31     Mumbai  30000.0      M\n",
            "2    ajay   36      Delhi  35000.0      M\n",
            "3  balaji   41  Bangalore  40000.5      M\n",
            "4     raj   46    Chennai  45000.0      M\n",
            "5   radha   51    Kolkata  50000.0      F\n",
            "6    sita   56  Hyderabad  55000.0      F\n",
            "7     ram   61  Ahmedabad  60000.0      M\n",
            "8    ravi   66     Jaipur  65000.5      M\n",
            "9    raju   71    Lucknow  70000.0      M\n",
            "DataFrame with City column dropped:\n",
            "      Name  Age   Salary Gender\n",
            "0   ashok   26  25000.5      M\n",
            "1    arun   31  30000.0      M\n",
            "2    ajay   36  35000.0      M\n",
            "3  balaji   41  40000.5      M\n",
            "4     raj   46  45000.0      M\n",
            "5   radha   51  50000.0      F\n",
            "6    sita   56  55000.0      F\n",
            "7     ram   61  60000.0      M\n",
            "8    ravi   66  65000.5      M\n",
            "9    raju   71  70000.0      M\n"
          ]
        }
      ]
    },
    {
      "cell_type": "code",
      "source": [
        "data={\n",
        "    'Name':['x','y','z'],\n",
        "    'Age':[20,None,20],\n",
        "    'City':['Pune','Kashmir',None]\n",
        "}\n",
        "df=pd.DataFrame(data)\n",
        "print(\"DataFrame with missing values:\\n\",df)\n",
        "df_dropped=df.dropna()\n",
        "print(\"DataFrame after dropping missing values:\\n\",df)\n",
        "df_filled=df.fillna({'Age':0,'City':'Unknown'})\n",
        "print(\"DataFrame with missing values filled:\\n\",df_filled)"
      ],
      "metadata": {
        "colab": {
          "base_uri": "https://localhost:8080/"
        },
        "id": "rhRHlFs-WxWw",
        "outputId": "16cbf1e8-f964-4e79-9879-62357eb7cebd"
      },
      "execution_count": null,
      "outputs": [
        {
          "output_type": "stream",
          "name": "stdout",
          "text": [
            "DataFrame with missing values:\n",
            "   Name   Age     City\n",
            "0    x  20.0     Pune\n",
            "1    y   NaN  Kashmir\n",
            "2    z  20.0     None\n",
            "DataFrame after dropping missing values:\n",
            "   Name   Age     City\n",
            "0    x  20.0     Pune\n",
            "1    y   NaN  Kashmir\n",
            "2    z  20.0     None\n",
            "DataFrame with missing values filled:\n",
            "   Name   Age     City\n",
            "0    x  20.0     Pune\n",
            "1    y   0.0  Kashmir\n",
            "2    z  20.0  Unknown\n"
          ]
        }
      ]
    },
    {
      "cell_type": "code",
      "source": [
        "import pandas as pd\n",
        "df=pd.read_csv('/content/heart.csv')\n",
        "print(\"DataFrame from CSV file:\\n\",df)"
      ],
      "metadata": {
        "colab": {
          "base_uri": "https://localhost:8080/"
        },
        "id": "RWdHCf1DiVaI",
        "outputId": "555f0197-2beb-4088-8c28-0b92f6c11fc7"
      },
      "execution_count": null,
      "outputs": [
        {
          "output_type": "stream",
          "name": "stdout",
          "text": [
            "DataFrame from CSV file:\n",
            "      ï»¿age  sex  cp  trestbps  chol  fbs  restecg  thalach  exang  oldpeak  \\\n",
            "0        63    1   3       145   233    1        0      150      0      2.3   \n",
            "1        37    1   2       130   250    0        1      187      0      3.5   \n",
            "2        41    0   1       130   204    0        0      172      0      1.4   \n",
            "3        56    1   1       120   236    0        1      178      0      0.8   \n",
            "4        57    0   0       120   354    0        1      163      1      0.6   \n",
            "..      ...  ...  ..       ...   ...  ...      ...      ...    ...      ...   \n",
            "298      57    0   0       140   241    0        1      123      1      0.2   \n",
            "299      45    1   3       110   264    0        1      132      0      1.2   \n",
            "300      68    1   0       144   193    1        1      141      0      3.4   \n",
            "301      57    1   0       130   131    0        1      115      1      1.2   \n",
            "302      57    0   1       130   236    0        0      174      0      0.0   \n",
            "\n",
            "     slope  ca  thal  target  \n",
            "0        0   0     1       1  \n",
            "1        0   0     2       1  \n",
            "2        2   0     2       1  \n",
            "3        2   0     2       1  \n",
            "4        2   0     2       1  \n",
            "..     ...  ..   ...     ...  \n",
            "298      1   0     3       0  \n",
            "299      1   0     3       0  \n",
            "300      1   2     3       0  \n",
            "301      1   1     3       0  \n",
            "302      1   1     2       0  \n",
            "\n",
            "[303 rows x 14 columns]\n"
          ]
        }
      ]
    },
    {
      "cell_type": "code",
      "source": [
        "\n",
        "print(\"First few rows:\\n\",df.head())\n",
        "print(\"Last few rows:\\n\",df.tail())\n",
        "print(\"Info about DataFrame:\\n\",df.info())\n",
        "print(\"Basic statistics:\\n\",df.describe())"
      ],
      "metadata": {
        "colab": {
          "base_uri": "https://localhost:8080/"
        },
        "id": "aUdG1HNTmgVI",
        "outputId": "c2a2f0d7-5569-4437-f5d7-74f90a597ac4"
      },
      "execution_count": null,
      "outputs": [
        {
          "output_type": "stream",
          "name": "stdout",
          "text": [
            "First few rows:\n",
            "    ï»¿age  sex  cp  trestbps  chol  fbs  restecg  thalach  exang  oldpeak  \\\n",
            "0      63    1   3       145   233    1        0      150      0      2.3   \n",
            "1      37    1   2       130   250    0        1      187      0      3.5   \n",
            "2      41    0   1       130   204    0        0      172      0      1.4   \n",
            "3      56    1   1       120   236    0        1      178      0      0.8   \n",
            "4      57    0   0       120   354    0        1      163      1      0.6   \n",
            "\n",
            "   slope  ca  thal  target  \n",
            "0      0   0     1       1  \n",
            "1      0   0     2       1  \n",
            "2      2   0     2       1  \n",
            "3      2   0     2       1  \n",
            "4      2   0     2       1  \n",
            "Last few rows:\n",
            "      ï»¿age  sex  cp  trestbps  chol  fbs  restecg  thalach  exang  oldpeak  \\\n",
            "298      57    0   0       140   241    0        1      123      1      0.2   \n",
            "299      45    1   3       110   264    0        1      132      0      1.2   \n",
            "300      68    1   0       144   193    1        1      141      0      3.4   \n",
            "301      57    1   0       130   131    0        1      115      1      1.2   \n",
            "302      57    0   1       130   236    0        0      174      0      0.0   \n",
            "\n",
            "     slope  ca  thal  target  \n",
            "298      1   0     3       0  \n",
            "299      1   0     3       0  \n",
            "300      1   2     3       0  \n",
            "301      1   1     3       0  \n",
            "302      1   1     2       0  \n",
            "<class 'pandas.core.frame.DataFrame'>\n",
            "RangeIndex: 303 entries, 0 to 302\n",
            "Data columns (total 14 columns):\n",
            " #   Column    Non-Null Count  Dtype  \n",
            "---  ------    --------------  -----  \n",
            " 0   ï»¿age    303 non-null    int64  \n",
            " 1   sex       303 non-null    int64  \n",
            " 2   cp        303 non-null    int64  \n",
            " 3   trestbps  303 non-null    int64  \n",
            " 4   chol      303 non-null    int64  \n",
            " 5   fbs       303 non-null    int64  \n",
            " 6   restecg   303 non-null    int64  \n",
            " 7   thalach   303 non-null    int64  \n",
            " 8   exang     303 non-null    int64  \n",
            " 9   oldpeak   303 non-null    float64\n",
            " 10  slope     303 non-null    int64  \n",
            " 11  ca        303 non-null    int64  \n",
            " 12  thal      303 non-null    int64  \n",
            " 13  target    303 non-null    int64  \n",
            "dtypes: float64(1), int64(13)\n",
            "memory usage: 33.3 KB\n",
            "Info about DataFrame:\n",
            " None\n",
            "Basic statistics:\n",
            "            ï»¿age         sex          cp    trestbps        chol         fbs  \\\n",
            "count  303.000000  303.000000  303.000000  303.000000  303.000000  303.000000   \n",
            "mean    54.366337    0.683168    0.966997  131.623762  246.264026    0.148515   \n",
            "std      9.082101    0.466011    1.032052   17.538143   51.830751    0.356198   \n",
            "min     29.000000    0.000000    0.000000   94.000000  126.000000    0.000000   \n",
            "25%     47.500000    0.000000    0.000000  120.000000  211.000000    0.000000   \n",
            "50%     55.000000    1.000000    1.000000  130.000000  240.000000    0.000000   \n",
            "75%     61.000000    1.000000    2.000000  140.000000  274.500000    0.000000   \n",
            "max     77.000000    1.000000    3.000000  200.000000  564.000000    1.000000   \n",
            "\n",
            "          restecg     thalach       exang     oldpeak       slope          ca  \\\n",
            "count  303.000000  303.000000  303.000000  303.000000  303.000000  303.000000   \n",
            "mean     0.528053  149.646865    0.326733    1.039604    1.399340    0.729373   \n",
            "std      0.525860   22.905161    0.469794    1.161075    0.616226    1.022606   \n",
            "min      0.000000   71.000000    0.000000    0.000000    0.000000    0.000000   \n",
            "25%      0.000000  133.500000    0.000000    0.000000    1.000000    0.000000   \n",
            "50%      1.000000  153.000000    0.000000    0.800000    1.000000    0.000000   \n",
            "75%      1.000000  166.000000    1.000000    1.600000    2.000000    1.000000   \n",
            "max      2.000000  202.000000    1.000000    6.200000    2.000000    4.000000   \n",
            "\n",
            "             thal      target  \n",
            "count  303.000000  303.000000  \n",
            "mean     2.313531    0.544554  \n",
            "std      0.612277    0.498835  \n",
            "min      0.000000    0.000000  \n",
            "25%      2.000000    0.000000  \n",
            "50%      2.000000    1.000000  \n",
            "75%      3.000000    1.000000  \n",
            "max      3.000000    1.000000  \n"
          ]
        }
      ]
    }
  ]
}